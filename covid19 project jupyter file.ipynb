{
 "cells": [
  {
   "cell_type": "code",
   "execution_count": 2,
   "metadata": {},
   "outputs": [],
   "source": [
    "import pandas as pd\n",
    "df=pd.read_csv(r\"C:\\Users\\Abhinav\\covid19 project\\metadata.csv\")"
   ]
  },
  {
   "cell_type": "code",
   "execution_count": 3,
   "metadata": {},
   "outputs": [
    {
     "data": {
      "text/html": [
       "<div>\n",
       "<style scoped>\n",
       "    .dataframe tbody tr th:only-of-type {\n",
       "        vertical-align: middle;\n",
       "    }\n",
       "\n",
       "    .dataframe tbody tr th {\n",
       "        vertical-align: top;\n",
       "    }\n",
       "\n",
       "    .dataframe thead th {\n",
       "        text-align: right;\n",
       "    }\n",
       "</style>\n",
       "<table border=\"1\" class=\"dataframe\">\n",
       "  <thead>\n",
       "    <tr style=\"text-align: right;\">\n",
       "      <th></th>\n",
       "      <th>patientid</th>\n",
       "      <th>offset</th>\n",
       "      <th>sex</th>\n",
       "      <th>age</th>\n",
       "      <th>finding</th>\n",
       "      <th>survival</th>\n",
       "      <th>intubated</th>\n",
       "      <th>intubation_present</th>\n",
       "      <th>went_icu</th>\n",
       "      <th>in_icu</th>\n",
       "      <th>...</th>\n",
       "      <th>date</th>\n",
       "      <th>location</th>\n",
       "      <th>folder</th>\n",
       "      <th>filename</th>\n",
       "      <th>doi</th>\n",
       "      <th>url</th>\n",
       "      <th>license</th>\n",
       "      <th>clinical_notes</th>\n",
       "      <th>other_notes</th>\n",
       "      <th>Unnamed: 28</th>\n",
       "    </tr>\n",
       "  </thead>\n",
       "  <tbody>\n",
       "    <tr>\n",
       "      <th>0</th>\n",
       "      <td>2</td>\n",
       "      <td>0.0</td>\n",
       "      <td>M</td>\n",
       "      <td>65.0</td>\n",
       "      <td>COVID-19</td>\n",
       "      <td>Y</td>\n",
       "      <td>NaN</td>\n",
       "      <td>NaN</td>\n",
       "      <td>NaN</td>\n",
       "      <td>NaN</td>\n",
       "      <td>...</td>\n",
       "      <td>January 22, 2020</td>\n",
       "      <td>Cho Ray Hospital, Ho Chi Minh City, Vietnam</td>\n",
       "      <td>images</td>\n",
       "      <td>auntminnie-a-2020_01_28_23_51_6665_2020_01_28_...</td>\n",
       "      <td>10.1056/nejmc2001272</td>\n",
       "      <td>https://www.nejm.org/doi/full/10.1056/NEJMc200...</td>\n",
       "      <td>NaN</td>\n",
       "      <td>On January 22, 2020, a 65-year-old man with a ...</td>\n",
       "      <td>NaN</td>\n",
       "      <td>NaN</td>\n",
       "    </tr>\n",
       "    <tr>\n",
       "      <th>1</th>\n",
       "      <td>2</td>\n",
       "      <td>3.0</td>\n",
       "      <td>M</td>\n",
       "      <td>65.0</td>\n",
       "      <td>COVID-19</td>\n",
       "      <td>Y</td>\n",
       "      <td>NaN</td>\n",
       "      <td>NaN</td>\n",
       "      <td>NaN</td>\n",
       "      <td>NaN</td>\n",
       "      <td>...</td>\n",
       "      <td>January 25, 2020</td>\n",
       "      <td>Cho Ray Hospital, Ho Chi Minh City, Vietnam</td>\n",
       "      <td>images</td>\n",
       "      <td>auntminnie-b-2020_01_28_23_51_6665_2020_01_28_...</td>\n",
       "      <td>10.1056/nejmc2001272</td>\n",
       "      <td>https://www.nejm.org/doi/full/10.1056/NEJMc200...</td>\n",
       "      <td>NaN</td>\n",
       "      <td>On January 22, 2020, a 65-year-old man with a ...</td>\n",
       "      <td>NaN</td>\n",
       "      <td>NaN</td>\n",
       "    </tr>\n",
       "    <tr>\n",
       "      <th>2</th>\n",
       "      <td>2</td>\n",
       "      <td>5.0</td>\n",
       "      <td>M</td>\n",
       "      <td>65.0</td>\n",
       "      <td>COVID-19</td>\n",
       "      <td>Y</td>\n",
       "      <td>NaN</td>\n",
       "      <td>NaN</td>\n",
       "      <td>NaN</td>\n",
       "      <td>NaN</td>\n",
       "      <td>...</td>\n",
       "      <td>January 27, 2020</td>\n",
       "      <td>Cho Ray Hospital, Ho Chi Minh City, Vietnam</td>\n",
       "      <td>images</td>\n",
       "      <td>auntminnie-c-2020_01_28_23_51_6665_2020_01_28_...</td>\n",
       "      <td>10.1056/nejmc2001272</td>\n",
       "      <td>https://www.nejm.org/doi/full/10.1056/NEJMc200...</td>\n",
       "      <td>NaN</td>\n",
       "      <td>On January 22, 2020, a 65-year-old man with a ...</td>\n",
       "      <td>NaN</td>\n",
       "      <td>NaN</td>\n",
       "    </tr>\n",
       "    <tr>\n",
       "      <th>3</th>\n",
       "      <td>2</td>\n",
       "      <td>6.0</td>\n",
       "      <td>M</td>\n",
       "      <td>65.0</td>\n",
       "      <td>COVID-19</td>\n",
       "      <td>Y</td>\n",
       "      <td>NaN</td>\n",
       "      <td>NaN</td>\n",
       "      <td>NaN</td>\n",
       "      <td>NaN</td>\n",
       "      <td>...</td>\n",
       "      <td>January 28, 2020</td>\n",
       "      <td>Cho Ray Hospital, Ho Chi Minh City, Vietnam</td>\n",
       "      <td>images</td>\n",
       "      <td>auntminnie-d-2020_01_28_23_51_6665_2020_01_28_...</td>\n",
       "      <td>10.1056/nejmc2001272</td>\n",
       "      <td>https://www.nejm.org/doi/full/10.1056/NEJMc200...</td>\n",
       "      <td>NaN</td>\n",
       "      <td>On January 22, 2020, a 65-year-old man with a ...</td>\n",
       "      <td>NaN</td>\n",
       "      <td>NaN</td>\n",
       "    </tr>\n",
       "    <tr>\n",
       "      <th>4</th>\n",
       "      <td>4</td>\n",
       "      <td>0.0</td>\n",
       "      <td>F</td>\n",
       "      <td>52.0</td>\n",
       "      <td>COVID-19</td>\n",
       "      <td>NaN</td>\n",
       "      <td>NaN</td>\n",
       "      <td>NaN</td>\n",
       "      <td>NaN</td>\n",
       "      <td>NaN</td>\n",
       "      <td>...</td>\n",
       "      <td>January 25, 2020</td>\n",
       "      <td>Changhua Christian Hospital, Changhua City, Ta...</td>\n",
       "      <td>images</td>\n",
       "      <td>nejmc2001573_f1a.jpeg</td>\n",
       "      <td>10.1056/NEJMc2001573</td>\n",
       "      <td>https://www.nejm.org/doi/full/10.1056/NEJMc200...</td>\n",
       "      <td>NaN</td>\n",
       "      <td>diffuse infiltrates in the bilateral lower lungs</td>\n",
       "      <td>NaN</td>\n",
       "      <td>NaN</td>\n",
       "    </tr>\n",
       "  </tbody>\n",
       "</table>\n",
       "<p>5 rows × 29 columns</p>\n",
       "</div>"
      ],
      "text/plain": [
       "   patientid  offset sex   age   finding survival intubated  \\\n",
       "0          2     0.0   M  65.0  COVID-19        Y       NaN   \n",
       "1          2     3.0   M  65.0  COVID-19        Y       NaN   \n",
       "2          2     5.0   M  65.0  COVID-19        Y       NaN   \n",
       "3          2     6.0   M  65.0  COVID-19        Y       NaN   \n",
       "4          4     0.0   F  52.0  COVID-19      NaN       NaN   \n",
       "\n",
       "  intubation_present went_icu in_icu  ...              date  \\\n",
       "0                NaN      NaN    NaN  ...  January 22, 2020   \n",
       "1                NaN      NaN    NaN  ...  January 25, 2020   \n",
       "2                NaN      NaN    NaN  ...  January 27, 2020   \n",
       "3                NaN      NaN    NaN  ...  January 28, 2020   \n",
       "4                NaN      NaN    NaN  ...  January 25, 2020   \n",
       "\n",
       "                                            location  folder  \\\n",
       "0        Cho Ray Hospital, Ho Chi Minh City, Vietnam  images   \n",
       "1        Cho Ray Hospital, Ho Chi Minh City, Vietnam  images   \n",
       "2        Cho Ray Hospital, Ho Chi Minh City, Vietnam  images   \n",
       "3        Cho Ray Hospital, Ho Chi Minh City, Vietnam  images   \n",
       "4  Changhua Christian Hospital, Changhua City, Ta...  images   \n",
       "\n",
       "                                            filename                   doi  \\\n",
       "0  auntminnie-a-2020_01_28_23_51_6665_2020_01_28_...  10.1056/nejmc2001272   \n",
       "1  auntminnie-b-2020_01_28_23_51_6665_2020_01_28_...  10.1056/nejmc2001272   \n",
       "2  auntminnie-c-2020_01_28_23_51_6665_2020_01_28_...  10.1056/nejmc2001272   \n",
       "3  auntminnie-d-2020_01_28_23_51_6665_2020_01_28_...  10.1056/nejmc2001272   \n",
       "4                              nejmc2001573_f1a.jpeg  10.1056/NEJMc2001573   \n",
       "\n",
       "                                                 url  license  \\\n",
       "0  https://www.nejm.org/doi/full/10.1056/NEJMc200...      NaN   \n",
       "1  https://www.nejm.org/doi/full/10.1056/NEJMc200...      NaN   \n",
       "2  https://www.nejm.org/doi/full/10.1056/NEJMc200...      NaN   \n",
       "3  https://www.nejm.org/doi/full/10.1056/NEJMc200...      NaN   \n",
       "4  https://www.nejm.org/doi/full/10.1056/NEJMc200...      NaN   \n",
       "\n",
       "                                      clinical_notes other_notes Unnamed: 28  \n",
       "0  On January 22, 2020, a 65-year-old man with a ...         NaN         NaN  \n",
       "1  On January 22, 2020, a 65-year-old man with a ...         NaN         NaN  \n",
       "2  On January 22, 2020, a 65-year-old man with a ...         NaN         NaN  \n",
       "3  On January 22, 2020, a 65-year-old man with a ...         NaN         NaN  \n",
       "4   diffuse infiltrates in the bilateral lower lungs         NaN         NaN  \n",
       "\n",
       "[5 rows x 29 columns]"
      ]
     },
     "execution_count": 3,
     "metadata": {},
     "output_type": "execute_result"
    }
   ],
   "source": [
    "df.head()"
   ]
  },
  {
   "cell_type": "code",
   "execution_count": 8,
   "metadata": {},
   "outputs": [],
   "source": [
    "target_dir=\"dataset\""
   ]
  },
  {
   "cell_type": "code",
   "execution_count": 12,
   "metadata": {},
   "outputs": [],
   "source": [
    "import os\n",
    "import shutil"
   ]
  },
  {
   "cell_type": "code",
   "execution_count": 9,
   "metadata": {},
   "outputs": [],
   "source": [
    "if not os.path.exists(target_dir):\n",
    "    os.mkdir(target_dir)\n",
    "    print(\"covid folder created\")"
   ]
  },
  {
   "cell_type": "code",
   "execution_count": 47,
   "metadata": {},
   "outputs": [],
   "source": [
    "count=0\n",
    "\n",
    "covidimages_in=\"covid19 project/images\"\n",
    "covidimages_out=\"dataset/covid images\"\n",
    "\n",
    "for i,row in df.iterrows():\n",
    "    if (row[\"finding\"]==\"COVID-19\" and row[\"view\"]==\"PA\" ):\n",
    "        filename=row[\"filename\"]\n",
    "        source=os.path.join(covidimages_in,filename)\n",
    "        destination=os.path.join(covidimages_out,filename)\n",
    "        shutil.copy2(source,destination)\n",
    "        \n",
    "          \n",
    "        count+=1\n",
    "      \n",
    "      "
   ]
  },
  {
   "cell_type": "code",
   "execution_count": 49,
   "metadata": {},
   "outputs": [
    {
     "name": "stdout",
     "output_type": "stream",
     "text": [
      "141\n"
     ]
    }
   ],
   "source": [
    "print(count)"
   ]
  },
  {
   "cell_type": "code",
   "execution_count": 50,
   "metadata": {},
   "outputs": [
    {
     "data": {
      "text/plain": [
       "['01E392EE-69F9-4E33-BFCE-E5C968654078.jpeg',\n",
       " '03BF7561-A9BA-4C3C-B8A0-D3E585F73F3C.jpeg',\n",
       " '1-s2.0-S0140673620303706-fx1_lrg.jpg',\n",
       " '1-s2.0-S1684118220300608-main.pdf-001.jpg',\n",
       " '1-s2.0-S1684118220300608-main.pdf-002.jpg',\n",
       " '1-s2.0-S1684118220300682-main.pdf-002-a1.png',\n",
       " '1-s2.0-S1684118220300682-main.pdf-002-a2.png',\n",
       " '1-s2.0-S1684118220300682-main.pdf-003-b1.png',\n",
       " '1-s2.0-S1684118220300682-main.pdf-003-b2.png',\n",
       " '1.CXRCTThoraximagesofCOVID-19fromSingapore.pdf-000-fig1a.png',\n",
       " '1.CXRCTThoraximagesofCOVID-19fromSingapore.pdf-000-fig1b.png',\n",
       " '1.CXRCTThoraximagesofCOVID-19fromSingapore.pdf-001-fig2a.png',\n",
       " '1.CXRCTThoraximagesofCOVID-19fromSingapore.pdf-001-fig2b.png',\n",
       " '1.CXRCTThoraximagesofCOVID-19fromSingapore.pdf-002-fig3a.png',\n",
       " '1.CXRCTThoraximagesofCOVID-19fromSingapore.pdf-002-fig3b.png',\n",
       " '1.CXRCTThoraximagesofCOVID-19fromSingapore.pdf-003-fig4a.png',\n",
       " '1.CXRCTThoraximagesofCOVID-19fromSingapore.pdf-003-fig4b.png',\n",
       " '1312A392-67A3-4EBF-9319-810CF6DA5EF6.jpeg',\n",
       " '16654_1_1.png',\n",
       " '16654_2_1.jpg',\n",
       " '16654_4_1.jpg',\n",
       " '16660_1_1.jpg',\n",
       " '16660_2_1.jpg',\n",
       " '16660_3_1.jpg',\n",
       " '16660_4_1.jpg',\n",
       " '16663_1_1.jpg',\n",
       " '16664_1_1.jpg',\n",
       " '16669_1_1.jpeg',\n",
       " '16669_3_1.jpeg',\n",
       " '16672_1_1.jpg',\n",
       " '16708_1_1.jpg',\n",
       " '16708_4_1.jpg',\n",
       " '16708_5_1.jpg',\n",
       " '1B734A89-A1BF-49A8-A1D3-66FAFA4FAC5D.jpeg',\n",
       " '2-chest-filmc.jpg',\n",
       " '23E99E2E-447C-46E5-8EB2-D35D12473C39.png',\n",
       " '2966893D-5DDF-4B68-9E2B-4979D5956C8E.jpeg',\n",
       " '2C26F453-AF3B-4517-BB9E-802CF2179543.jpeg',\n",
       " '31BA3780-2323-493F-8AED-62081B9C383B.jpeg',\n",
       " '353889E0-A1E8-4F9E-A0B8-F24F36BCFBFB.jpeg',\n",
       " '4-x-day1.jpg',\n",
       " '41591_2020_819_Fig1_HTML.webp-day10.png',\n",
       " '41591_2020_819_Fig1_HTML.webp-day5.png',\n",
       " '4e43e48d52c9e2d4c6c1fb9bc1544f_jumbo.jpeg',\n",
       " '53EC07C9-5CC6-4BE4-9B6F-D7B0D72AAA7E.jpeg',\n",
       " '58cb9263f16e94305c730685358e4e_jumbo.jpeg',\n",
       " '6b3bdbc31f65230b8cdcc3cef5f8ba8a-40ac-0.jpg',\n",
       " '6b44464d-73a7-4cf3-bbb6-ffe7168300e3.annot.original.jpeg',\n",
       " '6C94A287-C059-46A0-8600-AFB95F4727B7.jpeg',\n",
       " '6CB4EFC6-68FA-4CD5-940C-BEFA8DAFE9A7.jpeg',\n",
       " '7-fatal-covid19.jpg',\n",
       " '7AF6C1AF-D249-4BD2-8C26-449304105D03.jpeg',\n",
       " '7C69C012-7479-493F-8722-ABC29C60A2DD.jpeg',\n",
       " '80446565-E090-4187-A031-9D3CEAA586C8.jpeg',\n",
       " '85E52EB3-56E9-4D67-82DA-DEA247C82886.jpeg',\n",
       " '88de9d8c39e946abd495b37cd07d89e5-2ee6-0.jpg',\n",
       " '88de9d8c39e946abd495b37cd07d89e5-6531-0.jpg',\n",
       " '8FDE8DBA-CFBD-4B4C-B1A4-6F36A93B7E87.jpeg',\n",
       " '93FE0BB1-022D-4F24-9727-987A07975FFB.jpeg',\n",
       " '9C34AF49-E589-44D5-92D3-168B3B04E4A6.jpeg',\n",
       " '9fdd3c3032296fd04d2cad5d9070d4_jumbo.jpeg',\n",
       " 'ae6c954c0039de4b5edee53865ffee43-e6c8-0.jpg',\n",
       " 'all14238-fig-0001-m-b.jpg',\n",
       " 'all14238-fig-0001-m-c.jpg',\n",
       " 'AR-1.jpg',\n",
       " 'AR-2.jpg',\n",
       " 'auntminnie-a-2020_01_28_23_51_6665_2020_01_28_Vietnam_coronavirus.jpeg',\n",
       " 'auntminnie-b-2020_01_28_23_51_6665_2020_01_28_Vietnam_coronavirus.jpeg',\n",
       " 'auntminnie-c-2020_01_28_23_51_6665_2020_01_28_Vietnam_coronavirus.jpeg',\n",
       " 'auntminnie-d-2020_01_28_23_51_6665_2020_01_28_Vietnam_coronavirus.jpeg',\n",
       " 'B2D20576-00B7-4519-A415-72DE29C90C34.jpeg',\n",
       " 'CD50BA96-6982-4C80-AE7B-5F67ACDBFA56.jpeg',\n",
       " 'ciaa199.pdf-001-a.png',\n",
       " 'ciaa199.pdf-001-b.png',\n",
       " 'ciaa199.pdf-001-c.png',\n",
       " 'covid-19-caso-70-1-PA.jpg',\n",
       " 'covid-19-infection-exclusive-gastrointestinal-symptoms-pa.png',\n",
       " 'covid-19-pneumonia-12.jpg',\n",
       " 'covid-19-pneumonia-14-PA.png',\n",
       " 'covid-19-pneumonia-15-PA.jpg',\n",
       " 'covid-19-pneumonia-19.jpg',\n",
       " 'covid-19-pneumonia-2.jpg',\n",
       " 'covid-19-pneumonia-20-pa-on-admission.jpg',\n",
       " 'covid-19-pneumonia-20.jpg',\n",
       " 'covid-19-pneumonia-22-day1-pa.png',\n",
       " 'covid-19-pneumonia-22-day2-pa.png',\n",
       " 'covid-19-pneumonia-28.png',\n",
       " 'covid-19-pneumonia-30-PA.jpg',\n",
       " 'covid-19-pneumonia-34.png',\n",
       " 'covid-19-pneumonia-35-1.jpg',\n",
       " 'covid-19-pneumonia-35-2.jpg',\n",
       " 'covid-19-pneumonia-38-pa.jpg',\n",
       " 'covid-19-pneumonia-44-day-0.jpeg',\n",
       " 'covid-19-pneumonia-53.jpg',\n",
       " 'covid-19-pneumonia-58-day-10.jpg',\n",
       " 'covid-19-pneumonia-58-day-3.jpg',\n",
       " 'covid-19-pneumonia-58-day-7.jpg',\n",
       " 'covid-19-pneumonia-58-day-9.jpg',\n",
       " 'covid-19-pneumonia-67.jpeg',\n",
       " 'covid-19-pneumonia-7-PA.jpg',\n",
       " 'covid-19-pneumonia-8.jpg',\n",
       " 'covid-19-pneumonia-93.png',\n",
       " 'covid-19-pneumonia-bilateral.jpg',\n",
       " 'covid-19-pneumonia-evolution-over-a-week-1-day0-PA.jpg',\n",
       " 'covid-19-pneumonia-mild.JPG',\n",
       " 'E63574A7-4188-4C8D-8D17-9D67A18A1AFA.jpeg',\n",
       " 'extubation-1.jpg',\n",
       " 'extubation-13.jpg',\n",
       " 'extubation-4.jpg',\n",
       " 'extubation-8.jpg',\n",
       " 'F2DE909F-E19C-4900-92F5-8F435B031AC6.jpeg',\n",
       " 'F4341CE7-73C9-45C6-99C8-8567A5484B63.jpeg',\n",
       " 'F63AB6CE-1968-4154-A70F-913AF154F53D.jpeg',\n",
       " 'FE9F9A5D-2830-46F9-851B-1FF4534959BE.jpeg',\n",
       " 'fff49165-b22d-4bb4-b9d1-d5d62c52436c.annot.original.png',\n",
       " 'figure1-5e71be566aa8714a04de3386-98-left.jpeg',\n",
       " 'figure1-5e75d0940b71e1b702629659-98-right.jpeg',\n",
       " 'gr1_lrg-a.jpg',\n",
       " 'gr1_lrg-b.jpg',\n",
       " 'kjr-21-e24-g001-l-a.jpg',\n",
       " 'kjr-21-e24-g002-l-a.jpg',\n",
       " 'kjr-21-e24-g003-l-a.jpg',\n",
       " 'kjr-21-e25-g001-l-a.jpg',\n",
       " 'lancet-case2a.jpg',\n",
       " 'lancet-case2b.jpg',\n",
       " 'nCoV-radiol.2020200269.fig1-day7.jpeg',\n",
       " 'nejmc2001573_f1a.jpeg',\n",
       " 'nejmc2001573_f1b.jpeg',\n",
       " 'nejmoa2001191_f1-PA.jpeg',\n",
       " 'nejmoa2001191_f3-PA.jpeg',\n",
       " 'nejmoa2001191_f4.jpeg',\n",
       " 'nejmoa2001191_f5-PA.jpeg',\n",
       " 'paving.jpg',\n",
       " 'radiol.2020200274.fig3d.png',\n",
       " 'radiol.2020200490.fig3.jpeg',\n",
       " 'ryct.2020200028.fig1a.jpeg',\n",
       " 'ryct.2020200034.fig2.jpeg',\n",
       " 'ryct.2020200034.fig5-day0.jpeg',\n",
       " 'ryct.2020200034.fig5-day4.jpeg',\n",
       " 'ryct.2020200034.fig5-day7.jpeg',\n",
       " 'yxppt-2020-02-19_00-51-27_287214-day8.jpg']"
      ]
     },
     "execution_count": 50,
     "metadata": {},
     "output_type": "execute_result"
    }
   ],
   "source": [
    "os.listdir(covidimages_out)"
   ]
  },
  {
   "cell_type": "code",
   "execution_count": null,
   "metadata": {},
   "outputs": [],
   "source": [
    "  "
   ]
  },
  {
   "cell_type": "markdown",
   "metadata": {},
   "source": [
    "df2=df[df.view==\"PA\"]"
   ]
  },
  {
   "cell_type": "markdown",
   "metadata": {},
   "source": [
    "df2=df[df.view==\"PA\"]"
   ]
  },
  {
   "cell_type": "code",
   "execution_count": 39,
   "metadata": {},
   "outputs": [
    {
     "name": "stderr",
     "output_type": "stream",
     "text": [
      "C:\\ProgramData\\Anaconda3new\\lib\\site-packages\\ipykernel_launcher.py:1: UserWarning: Boolean Series key will be reindexed to match DataFrame index.\n",
      "  \"\"\"Entry point for launching an IPython kernel.\n"
     ]
    }
   ],
   "source": []
  },
  {
   "cell_type": "code",
   "execution_count": 56,
   "metadata": {},
   "outputs": [],
   "source": [
    "target_in=\"covid19 project/NORMAL\""
   ]
  },
  {
   "cell_type": "code",
   "execution_count": 57,
   "metadata": {},
   "outputs": [],
   "source": [
    "normal_img=os.listdir(target_in)"
   ]
  },
  {
   "cell_type": "code",
   "execution_count": 60,
   "metadata": {},
   "outputs": [],
   "source": [
    "random.shuffle(normal_img)"
   ]
  },
  {
   "cell_type": "code",
   "execution_count": 64,
   "metadata": {},
   "outputs": [
    {
     "data": {
      "text/plain": [
       "1341"
      ]
     },
     "execution_count": 64,
     "metadata": {},
     "output_type": "execute_result"
    }
   ],
   "source": [
    "len(normal_img)"
   ]
  },
  {
   "cell_type": "code",
   "execution_count": 107,
   "metadata": {},
   "outputs": [],
   "source": [
    "train_n=\"final dataset/train/normal\"\n",
    "train_c=\"final dataset/train/covid\"\n",
    "test_n=\"final dataset/test/normal\"\n",
    "test_c=\"final dataset/test/covid\"\n",
    "eval=\"final dataset/eval/check\""
   ]
  },
  {
   "cell_type": "code",
   "execution_count": 115,
   "metadata": {},
   "outputs": [],
   "source": [
    "train_no=normal_img[0:110]\n",
    "test_no=normal_img[110:141]\n",
    "eval_no1=normal_img[142]"
   ]
  },
  {
   "cell_type": "code",
   "execution_count": 101,
   "metadata": {},
   "outputs": [],
   "source": [
    "count=0\n",
    "for i in range(len(train_no)):\n",
    "    filename=train_no[i]\n",
    "    source=os.path.join(target_in,filename)\n",
    "    destination=os.path.join(train_n,filename)\n",
    "    shutil.copy2(source,destination)\n",
    "        \n",
    "          \n",
    "    count+=1\n",
    "    \n",
    "    "
   ]
  },
  {
   "cell_type": "code",
   "execution_count": 102,
   "metadata": {},
   "outputs": [],
   "source": [
    "count=0\n",
    "for i in range(len(test_no)):\n",
    "    filename=test_no[i]\n",
    "    source=os.path.join(target_in,filename)\n",
    "    destination=os.path.join(test_n,filename)\n",
    "    shutil.copy2(source,destination)\n",
    "        \n",
    "          \n",
    "    count+=1\n",
    "    "
   ]
  },
  {
   "cell_type": "code",
   "execution_count": 103,
   "metadata": {},
   "outputs": [
    {
     "data": {
      "text/plain": [
       "31"
      ]
     },
     "execution_count": 103,
     "metadata": {},
     "output_type": "execute_result"
    }
   ],
   "source": [
    "count"
   ]
  },
  {
   "cell_type": "code",
   "execution_count": 105,
   "metadata": {},
   "outputs": [],
   "source": [
    "a=os.listdir(\"final dataset/test/normal\")"
   ]
  },
  {
   "cell_type": "code",
   "execution_count": 116,
   "metadata": {},
   "outputs": [
    {
     "data": {
      "text/plain": [
       "17"
      ]
     },
     "execution_count": 116,
     "metadata": {},
     "output_type": "execute_result"
    }
   ],
   "source": [
    "len(eval_no1)"
   ]
  },
  {
   "cell_type": "markdown",
   "metadata": {},
   "source": [
    "filename=eval_no1\n",
    "source=os.path.join(target_in,filename)\n",
    "destination=os.path.join(eval,filename)\n",
    "shutil.copy2(source,destination)"
   ]
  },
  {
   "cell_type": "code",
   "execution_count": 117,
   "metadata": {},
   "outputs": [
    {
     "data": {
      "text/plain": [
       "'final dataset/eval/check\\\\IM-0642-0001.jpeg'"
      ]
     },
     "execution_count": 117,
     "metadata": {},
     "output_type": "execute_result"
    }
   ],
   "source": [
    "filename=eval_no1\n",
    "source=os.path.join(target_in,filename)\n",
    "destination=os.path.join(eval,filename) \n",
    "shutil.copy2(source,destination)"
   ]
  },
  {
   "cell_type": "code",
   "execution_count": 142,
   "metadata": {},
   "outputs": [],
   "source": [
    "target_covid=\"dataset/covid images\""
   ]
  },
  {
   "cell_type": "code",
   "execution_count": 143,
   "metadata": {},
   "outputs": [
    {
     "data": {
      "text/plain": [
       "141"
      ]
     },
     "execution_count": 143,
     "metadata": {},
     "output_type": "execute_result"
    }
   ],
   "source": [
    "covid_images=os.listdir(\"dataset/covid images\")\n",
    "np.random.shuffle(covid_images)\n",
    "len(covid_images)"
   ]
  },
  {
   "cell_type": "code",
   "execution_count": 144,
   "metadata": {},
   "outputs": [],
   "source": [
    "train_co=covid_images[0:110]\n",
    "test_co=covid_images[110:140]\n",
    "eval_co=covid_images[140]"
   ]
  },
  {
   "cell_type": "code",
   "execution_count": 145,
   "metadata": {},
   "outputs": [],
   "source": [
    "train_n=\"final dataset/train/normal\"\n",
    "train_c=\"final dataset/train/covid\"\n",
    "test_n=\"final dataset/test/normal\"\n",
    "test_c=\"final dataset/test/covid\"\n",
    "eval=\"final dataset/eval/check\""
   ]
  },
  {
   "cell_type": "code",
   "execution_count": 146,
   "metadata": {},
   "outputs": [],
   "source": [
    "count=0\n",
    "for i in range(len(train_co)):\n",
    "    filename=train_co[i]\n",
    "    source=os.path.join(target_covid,filename)\n",
    "    destination=os.path.join(train_c,filename)\n",
    "    shutil.copy2(source,destination)\n",
    "        \n",
    "          \n",
    "    count+=1"
   ]
  },
  {
   "cell_type": "code",
   "execution_count": 147,
   "metadata": {},
   "outputs": [
    {
     "data": {
      "text/plain": [
       "110"
      ]
     },
     "execution_count": 147,
     "metadata": {},
     "output_type": "execute_result"
    }
   ],
   "source": [
    "count"
   ]
  },
  {
   "cell_type": "code",
   "execution_count": 148,
   "metadata": {},
   "outputs": [],
   "source": [
    "count=0\n",
    "for i in range(len(test_co)):\n",
    "    filename=test_co[i]\n",
    "    source=os.path.join(target_covid,filename)\n",
    "    destination=os.path.join(test_c,filename)\n",
    "    shutil.copy2(source,destination)\n",
    "        \n",
    "          \n",
    "    count+=1"
   ]
  },
  {
   "cell_type": "code",
   "execution_count": 140,
   "metadata": {},
   "outputs": [
    {
     "data": {
      "text/plain": [
       "30"
      ]
     },
     "execution_count": 140,
     "metadata": {},
     "output_type": "execute_result"
    }
   ],
   "source": [
    "count"
   ]
  },
  {
   "cell_type": "code",
   "execution_count": 149,
   "metadata": {},
   "outputs": [
    {
     "data": {
      "text/plain": [
       "'final dataset/eval/check\\\\auntminnie-d-2020_01_28_23_51_6665_2020_01_28_Vietnam_coronavirus.jpeg'"
      ]
     },
     "execution_count": 149,
     "metadata": {},
     "output_type": "execute_result"
    }
   ],
   "source": [
    "filename=eval_co\n",
    "source=os.path.join(target_covid,filename)\n",
    "destination=os.path.join(eval,filename) \n",
    "shutil.copy2(source,destination)"
   ]
  },
  {
   "cell_type": "code",
   "execution_count": null,
   "metadata": {},
   "outputs": [],
   "source": []
  }
 ],
 "metadata": {
  "kernelspec": {
   "display_name": "Python 3",
   "language": "python",
   "name": "python3"
  },
  "language_info": {
   "codemirror_mode": {
    "name": "ipython",
    "version": 3
   },
   "file_extension": ".py",
   "mimetype": "text/x-python",
   "name": "python",
   "nbconvert_exporter": "python",
   "pygments_lexer": "ipython3",
   "version": "3.7.6"
  }
 },
 "nbformat": 4,
 "nbformat_minor": 4
}
